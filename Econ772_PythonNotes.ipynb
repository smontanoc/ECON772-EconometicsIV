{
 "cells": [
  {
   "cell_type": "markdown",
   "id": "9d8c9653",
   "metadata": {},
   "source": [
    "<table style=\"width:100%\">\n",
    "  <tr>\n",
    "    <th>\n",
    "        <h1 style=\"text-align:left\">Quick Introduction to Python</h1>\n",
    "        <p style=\"text-align:left\">Prepared for ECON 772 - Econometrics IV</p>\n",
    "    </th>\n",
    "    <th><img src=\"logo.png\" style=\"width:250px;\" align=\"right\"></th>\n",
    "  </tr>\n",
    "  <tr>\n",
    "    <td style=\"text-align:left\">by Guido Kuersteiner and Sebastian Montano</td>\n",
    "  </tr>\n",
    "</table>\n",
    "\n",
    "\n",
    "<h3>What is Python?</h3>\n",
    "\n",
    "\n",
    "- General–purpose programming language  \n",
    "- Open source  \n",
    "- High level language: slower in general but easier to write code and\n",
    "  develop software  \n",
    "- With special tools and for particular problems is fast (approaching low level\n",
    "  languages)"
   ]
  },
  {
   "cell_type": "code",
   "execution_count": null,
   "id": "1b10a684",
   "metadata": {},
   "outputs": [],
   "source": [
    "# This is a comment"
   ]
  },
  {
   "cell_type": "markdown",
   "id": "4acf5178",
   "metadata": {},
   "source": [
    "### Basic variable types\n",
    "\n",
    "- Boolean  \n",
    "- Integer  \n",
    "- Floating point numbers  \n",
    "- Complex numbers  \n",
    "- Strings"
   ]
  },
  {
   "cell_type": "markdown",
   "id": "06da5399",
   "metadata": {},
   "source": [
    "#### Boolean\n",
    "\n",
    "Record logical **True** or **False**\n",
    "\n",
    "Logical opertations + arithmetics"
   ]
  },
  {
   "cell_type": "code",
   "execution_count": 1,
   "id": "aaac256f",
   "metadata": {},
   "outputs": [
    {
     "data": {
      "text/plain": [
       "False"
      ]
     },
     "execution_count": 1,
     "metadata": {},
     "output_type": "execute_result"
    }
   ],
   "source": [
    "x = False\n",
    "y = True\n",
    "x and y"
   ]
  },
  {
   "cell_type": "code",
   "execution_count": 2,
   "id": "74945335",
   "metadata": {},
   "outputs": [
    {
     "data": {
      "text/plain": [
       "True"
      ]
     },
     "execution_count": 2,
     "metadata": {},
     "output_type": "execute_result"
    }
   ],
   "source": [
    "y = 1 < 5\n",
    "y = y and (4 < 8)\n",
    "y"
   ]
  },
  {
   "cell_type": "markdown",
   "id": "c35e2c93",
   "metadata": {},
   "source": [
    "#### Integer"
   ]
  },
  {
   "cell_type": "code",
   "execution_count": 29,
   "id": "2e1022ea",
   "metadata": {},
   "outputs": [
    {
     "name": "stdout",
     "output_type": "stream",
     "text": [
      "x is 1\n",
      "Type of x is <class 'int'>\n"
     ]
    }
   ],
   "source": [
    "import sys\n",
    "x = 1\n",
    "print(\"x is %r\" % x)\n",
    "print(\"Type of x is %s\" % type(x))"
   ]
  },
  {
   "cell_type": "code",
   "execution_count": null,
   "id": "f8b63aec",
   "metadata": {},
   "outputs": [],
   "source": []
  }
 ],
 "metadata": {
  "kernelspec": {
   "display_name": "Python 3",
   "language": "python",
   "name": "python3"
  },
  "language_info": {
   "codemirror_mode": {
    "name": "ipython",
    "version": 3
   },
   "file_extension": ".py",
   "mimetype": "text/x-python",
   "name": "python",
   "nbconvert_exporter": "python",
   "pygments_lexer": "ipython3",
   "version": "3.8.8"
  }
 },
 "nbformat": 4,
 "nbformat_minor": 5
}
